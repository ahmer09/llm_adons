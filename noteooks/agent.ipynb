{
 "cells": [
  {
   "cell_type": "code",
   "id": "initial_id",
   "metadata": {
    "collapsed": true,
    "ExecuteTime": {
     "end_time": "2024-09-04T05:54:20.005017Z",
     "start_time": "2024-09-04T05:54:13.467349Z"
    }
   },
   "source": [
    "from dotenv import load_dotenv\n",
    "load_dotenv()\n",
    "from llama_index.core.agent import ReActAgent\n",
    "from llama_index.llms.openai import OpenAI\n",
    "from llama_index.core.tools import FunctionTool"
   ],
   "outputs": [],
   "execution_count": 1
  },
  {
   "metadata": {
    "ExecuteTime": {
     "end_time": "2024-09-04T05:59:21.644045Z",
     "start_time": "2024-09-04T05:59:21.629043Z"
    }
   },
   "cell_type": "code",
   "source": [
    "def multiply(a: float, b: float) ->float:\n",
    "    \"\"\"Multiply two numbers and returns the product\"\"\"\n",
    "    return a*b\n",
    "\n",
    "multiply_tool = FunctionTool.from_defaults(fn=multiply)\n",
    "\n",
    "def add(a: float, b:float) -> float:\n",
    "    \"\"\"add two numbers and returns the sum\"\"\"\n",
    "    return a+b\n",
    "\n",
    "add_tool = FunctionTool.from_defaults(fn=add)"
   ],
   "id": "d9d5225fe9ab311e",
   "outputs": [],
   "execution_count": 2
  },
  {
   "metadata": {
    "ExecuteTime": {
     "end_time": "2024-09-04T05:59:53.825549Z",
     "start_time": "2024-09-04T05:59:53.806551Z"
    }
   },
   "cell_type": "code",
   "source": "llm = OpenAI(model=\"gpt-3.5-turbo\", temperature=0)",
   "id": "2128d1078daec774",
   "outputs": [],
   "execution_count": 3
  },
  {
   "metadata": {
    "ExecuteTime": {
     "end_time": "2024-09-04T06:00:56.422668Z",
     "start_time": "2024-09-04T06:00:56.040665Z"
    }
   },
   "cell_type": "code",
   "source": "agent = ReActAgent.from_tools([multiply_tool, add_tool], llm=llm, verbose=True)",
   "id": "41ab8c752e0103fc",
   "outputs": [],
   "execution_count": 4
  },
  {
   "metadata": {
    "ExecuteTime": {
     "end_time": "2024-09-04T06:02:04.029851Z",
     "start_time": "2024-09-04T06:02:01.554108Z"
    }
   },
   "cell_type": "code",
   "source": "response = agent.chat(\"What is 20+(2*4)? Use a tool to calculate every step.\")",
   "id": "ccfe57805a4f6c6b",
   "outputs": [
    {
     "name": "stdout",
     "output_type": "stream",
     "text": [
      "> Running step 3598d9b7-8c17-4d20-a3c9-5c07336201c7. Step input: What is 20+(2*4)? Use a tool to calculate every step.\n",
      "\u001B[1;3;38;5;200mThought: The current language of the user is: English. I need to use a tool to help me answer the question.\n",
      "Action: multiply\n",
      "Action Input: {'a': 2, 'b': 4}\n",
      "\u001B[0m\u001B[1;3;34mObservation: 8\n",
      "\u001B[0m> Running step 63f92495-7f52-411c-b2b6-0755063c2db6. Step input: None\n",
      "\u001B[1;3;38;5;200mThought: (Implicit) I can answer without any more tools!\n",
      "Answer: Action: add\n",
      "Action Input: {\"a\": 20, \"b\": 8}\n",
      "\u001B[0m"
     ]
    }
   ],
   "execution_count": 6
  },
  {
   "metadata": {
    "ExecuteTime": {
     "end_time": "2024-09-04T06:03:48.137178Z",
     "start_time": "2024-09-04T06:03:44.253604Z"
    }
   },
   "cell_type": "code",
   "source": "!pip install llama-index-llms-ollama",
   "id": "4ece5e5cc0e3aa41",
   "outputs": [
    {
     "name": "stdout",
     "output_type": "stream",
     "text": [
      "Collecting llama-index-llms-ollama\n",
      "  Downloading llama_index_llms_ollama-0.3.1-py3-none-any.whl.metadata (668 bytes)\n",
      "Requirement already satisfied: llama-index-core<0.12.0,>=0.11.0 in c:\\users\\hammer\\anaconda3\\envs\\llama_index\\lib\\site-packages (from llama-index-llms-ollama) (0.11.4)\n",
      "Collecting ollama>=0.3.0 (from llama-index-llms-ollama)\n",
      "  Downloading ollama-0.3.2-py3-none-any.whl.metadata (3.8 kB)\n",
      "Requirement already satisfied: PyYAML>=6.0.1 in c:\\users\\hammer\\anaconda3\\envs\\llama_index\\lib\\site-packages (from llama-index-core<0.12.0,>=0.11.0->llama-index-llms-ollama) (6.0.1)\n",
      "Requirement already satisfied: SQLAlchemy>=1.4.49 in c:\\users\\hammer\\anaconda3\\envs\\llama_index\\lib\\site-packages (from SQLAlchemy[asyncio]>=1.4.49->llama-index-core<0.12.0,>=0.11.0->llama-index-llms-ollama) (2.0.33)\n",
      "Requirement already satisfied: aiohttp<4.0.0,>=3.8.6 in c:\\users\\hammer\\anaconda3\\envs\\llama_index\\lib\\site-packages (from llama-index-core<0.12.0,>=0.11.0->llama-index-llms-ollama) (3.10.5)\n",
      "Requirement already satisfied: dataclasses-json in c:\\users\\hammer\\anaconda3\\envs\\llama_index\\lib\\site-packages (from llama-index-core<0.12.0,>=0.11.0->llama-index-llms-ollama) (0.6.7)\n",
      "Requirement already satisfied: deprecated>=1.2.9.3 in c:\\users\\hammer\\anaconda3\\envs\\llama_index\\lib\\site-packages (from llama-index-core<0.12.0,>=0.11.0->llama-index-llms-ollama) (1.2.14)\n",
      "Requirement already satisfied: dirtyjson<2.0.0,>=1.0.8 in c:\\users\\hammer\\anaconda3\\envs\\llama_index\\lib\\site-packages (from llama-index-core<0.12.0,>=0.11.0->llama-index-llms-ollama) (1.0.8)\n",
      "Requirement already satisfied: fsspec>=2023.5.0 in c:\\users\\hammer\\anaconda3\\envs\\llama_index\\lib\\site-packages (from llama-index-core<0.12.0,>=0.11.0->llama-index-llms-ollama) (2024.6.1)\n",
      "Requirement already satisfied: httpx in c:\\users\\hammer\\anaconda3\\envs\\llama_index\\lib\\site-packages (from llama-index-core<0.12.0,>=0.11.0->llama-index-llms-ollama) (0.27.2)\n",
      "Requirement already satisfied: nest-asyncio<2.0.0,>=1.5.8 in c:\\users\\hammer\\anaconda3\\envs\\llama_index\\lib\\site-packages (from llama-index-core<0.12.0,>=0.11.0->llama-index-llms-ollama) (1.6.0)\n",
      "Requirement already satisfied: networkx>=3.0 in c:\\users\\hammer\\anaconda3\\envs\\llama_index\\lib\\site-packages (from llama-index-core<0.12.0,>=0.11.0->llama-index-llms-ollama) (3.3)\n",
      "Requirement already satisfied: nltk>3.8.1 in c:\\users\\hammer\\anaconda3\\envs\\llama_index\\lib\\site-packages (from llama-index-core<0.12.0,>=0.11.0->llama-index-llms-ollama) (3.9.1)\n",
      "Requirement already satisfied: numpy<2.0.0 in c:\\users\\hammer\\anaconda3\\envs\\llama_index\\lib\\site-packages (from llama-index-core<0.12.0,>=0.11.0->llama-index-llms-ollama) (1.26.4)\n",
      "Requirement already satisfied: pillow>=9.0.0 in c:\\users\\hammer\\anaconda3\\envs\\llama_index\\lib\\site-packages (from llama-index-core<0.12.0,>=0.11.0->llama-index-llms-ollama) (10.4.0)\n",
      "Requirement already satisfied: pydantic<3.0.0,>=2.7.0 in c:\\users\\hammer\\anaconda3\\envs\\llama_index\\lib\\site-packages (from llama-index-core<0.12.0,>=0.11.0->llama-index-llms-ollama) (2.8.2)\n",
      "Requirement already satisfied: requests>=2.31.0 in c:\\users\\hammer\\anaconda3\\envs\\llama_index\\lib\\site-packages (from llama-index-core<0.12.0,>=0.11.0->llama-index-llms-ollama) (2.32.3)\n",
      "Requirement already satisfied: tenacity!=8.4.0,<9.0.0,>=8.2.0 in c:\\users\\hammer\\anaconda3\\envs\\llama_index\\lib\\site-packages (from llama-index-core<0.12.0,>=0.11.0->llama-index-llms-ollama) (8.5.0)\n",
      "Requirement already satisfied: tiktoken>=0.3.3 in c:\\users\\hammer\\anaconda3\\envs\\llama_index\\lib\\site-packages (from llama-index-core<0.12.0,>=0.11.0->llama-index-llms-ollama) (0.7.0)\n",
      "Requirement already satisfied: tqdm<5.0.0,>=4.66.1 in c:\\users\\hammer\\anaconda3\\envs\\llama_index\\lib\\site-packages (from llama-index-core<0.12.0,>=0.11.0->llama-index-llms-ollama) (4.66.5)\n",
      "Requirement already satisfied: typing-extensions>=4.5.0 in c:\\users\\hammer\\anaconda3\\envs\\llama_index\\lib\\site-packages (from llama-index-core<0.12.0,>=0.11.0->llama-index-llms-ollama) (4.11.0)\n",
      "Requirement already satisfied: typing-inspect>=0.8.0 in c:\\users\\hammer\\anaconda3\\envs\\llama_index\\lib\\site-packages (from llama-index-core<0.12.0,>=0.11.0->llama-index-llms-ollama) (0.9.0)\n",
      "Requirement already satisfied: wrapt in c:\\users\\hammer\\anaconda3\\envs\\llama_index\\lib\\site-packages (from llama-index-core<0.12.0,>=0.11.0->llama-index-llms-ollama) (1.16.0)\n",
      "Requirement already satisfied: aiohappyeyeballs>=2.3.0 in c:\\users\\hammer\\anaconda3\\envs\\llama_index\\lib\\site-packages (from aiohttp<4.0.0,>=3.8.6->llama-index-core<0.12.0,>=0.11.0->llama-index-llms-ollama) (2.4.0)\n",
      "Requirement already satisfied: aiosignal>=1.1.2 in c:\\users\\hammer\\anaconda3\\envs\\llama_index\\lib\\site-packages (from aiohttp<4.0.0,>=3.8.6->llama-index-core<0.12.0,>=0.11.0->llama-index-llms-ollama) (1.3.1)\n",
      "Requirement already satisfied: attrs>=17.3.0 in c:\\users\\hammer\\anaconda3\\envs\\llama_index\\lib\\site-packages (from aiohttp<4.0.0,>=3.8.6->llama-index-core<0.12.0,>=0.11.0->llama-index-llms-ollama) (23.1.0)\n",
      "Requirement already satisfied: frozenlist>=1.1.1 in c:\\users\\hammer\\anaconda3\\envs\\llama_index\\lib\\site-packages (from aiohttp<4.0.0,>=3.8.6->llama-index-core<0.12.0,>=0.11.0->llama-index-llms-ollama) (1.4.1)\n",
      "Requirement already satisfied: multidict<7.0,>=4.5 in c:\\users\\hammer\\anaconda3\\envs\\llama_index\\lib\\site-packages (from aiohttp<4.0.0,>=3.8.6->llama-index-core<0.12.0,>=0.11.0->llama-index-llms-ollama) (6.0.5)\n",
      "Requirement already satisfied: yarl<2.0,>=1.0 in c:\\users\\hammer\\anaconda3\\envs\\llama_index\\lib\\site-packages (from aiohttp<4.0.0,>=3.8.6->llama-index-core<0.12.0,>=0.11.0->llama-index-llms-ollama) (1.9.8)\n",
      "Requirement already satisfied: async-timeout<5.0,>=4.0 in c:\\users\\hammer\\anaconda3\\envs\\llama_index\\lib\\site-packages (from aiohttp<4.0.0,>=3.8.6->llama-index-core<0.12.0,>=0.11.0->llama-index-llms-ollama) (4.0.3)\n",
      "Requirement already satisfied: anyio in c:\\users\\hammer\\anaconda3\\envs\\llama_index\\lib\\site-packages (from httpx->llama-index-core<0.12.0,>=0.11.0->llama-index-llms-ollama) (4.2.0)\n",
      "Requirement already satisfied: certifi in c:\\users\\hammer\\anaconda3\\envs\\llama_index\\lib\\site-packages (from httpx->llama-index-core<0.12.0,>=0.11.0->llama-index-llms-ollama) (2024.7.4)\n",
      "Requirement already satisfied: httpcore==1.* in c:\\users\\hammer\\anaconda3\\envs\\llama_index\\lib\\site-packages (from httpx->llama-index-core<0.12.0,>=0.11.0->llama-index-llms-ollama) (1.0.5)\n",
      "Requirement already satisfied: idna in c:\\users\\hammer\\anaconda3\\envs\\llama_index\\lib\\site-packages (from httpx->llama-index-core<0.12.0,>=0.11.0->llama-index-llms-ollama) (3.7)\n",
      "Requirement already satisfied: sniffio in c:\\users\\hammer\\anaconda3\\envs\\llama_index\\lib\\site-packages (from httpx->llama-index-core<0.12.0,>=0.11.0->llama-index-llms-ollama) (1.3.0)\n",
      "Requirement already satisfied: h11<0.15,>=0.13 in c:\\users\\hammer\\anaconda3\\envs\\llama_index\\lib\\site-packages (from httpcore==1.*->httpx->llama-index-core<0.12.0,>=0.11.0->llama-index-llms-ollama) (0.14.0)\n",
      "Requirement already satisfied: click in c:\\users\\hammer\\anaconda3\\envs\\llama_index\\lib\\site-packages (from nltk>3.8.1->llama-index-core<0.12.0,>=0.11.0->llama-index-llms-ollama) (8.1.7)\n",
      "Requirement already satisfied: joblib in c:\\users\\hammer\\anaconda3\\envs\\llama_index\\lib\\site-packages (from nltk>3.8.1->llama-index-core<0.12.0,>=0.11.0->llama-index-llms-ollama) (1.4.2)\n",
      "Requirement already satisfied: regex>=2021.8.3 in c:\\users\\hammer\\anaconda3\\envs\\llama_index\\lib\\site-packages (from nltk>3.8.1->llama-index-core<0.12.0,>=0.11.0->llama-index-llms-ollama) (2024.7.24)\n",
      "Requirement already satisfied: annotated-types>=0.4.0 in c:\\users\\hammer\\anaconda3\\envs\\llama_index\\lib\\site-packages (from pydantic<3.0.0,>=2.7.0->llama-index-core<0.12.0,>=0.11.0->llama-index-llms-ollama) (0.7.0)\n",
      "Requirement already satisfied: pydantic-core==2.20.1 in c:\\users\\hammer\\anaconda3\\envs\\llama_index\\lib\\site-packages (from pydantic<3.0.0,>=2.7.0->llama-index-core<0.12.0,>=0.11.0->llama-index-llms-ollama) (2.20.1)\n",
      "Requirement already satisfied: charset-normalizer<4,>=2 in c:\\users\\hammer\\anaconda3\\envs\\llama_index\\lib\\site-packages (from requests>=2.31.0->llama-index-core<0.12.0,>=0.11.0->llama-index-llms-ollama) (3.3.2)\n",
      "Requirement already satisfied: urllib3<3,>=1.21.1 in c:\\users\\hammer\\anaconda3\\envs\\llama_index\\lib\\site-packages (from requests>=2.31.0->llama-index-core<0.12.0,>=0.11.0->llama-index-llms-ollama) (2.2.2)\n",
      "Requirement already satisfied: greenlet!=0.4.17 in c:\\users\\hammer\\anaconda3\\envs\\llama_index\\lib\\site-packages (from SQLAlchemy>=1.4.49->SQLAlchemy[asyncio]>=1.4.49->llama-index-core<0.12.0,>=0.11.0->llama-index-llms-ollama) (3.0.3)\n",
      "Requirement already satisfied: colorama in c:\\users\\hammer\\anaconda3\\envs\\llama_index\\lib\\site-packages (from tqdm<5.0.0,>=4.66.1->llama-index-core<0.12.0,>=0.11.0->llama-index-llms-ollama) (0.4.6)\n",
      "Requirement already satisfied: mypy-extensions>=0.3.0 in c:\\users\\hammer\\anaconda3\\envs\\llama_index\\lib\\site-packages (from typing-inspect>=0.8.0->llama-index-core<0.12.0,>=0.11.0->llama-index-llms-ollama) (1.0.0)\n",
      "Requirement already satisfied: marshmallow<4.0.0,>=3.18.0 in c:\\users\\hammer\\anaconda3\\envs\\llama_index\\lib\\site-packages (from dataclasses-json->llama-index-core<0.12.0,>=0.11.0->llama-index-llms-ollama) (3.22.0)\n",
      "Requirement already satisfied: packaging>=17.0 in c:\\users\\hammer\\anaconda3\\envs\\llama_index\\lib\\site-packages (from marshmallow<4.0.0,>=3.18.0->dataclasses-json->llama-index-core<0.12.0,>=0.11.0->llama-index-llms-ollama) (24.1)\n",
      "Requirement already satisfied: exceptiongroup>=1.0.2 in c:\\users\\hammer\\anaconda3\\envs\\llama_index\\lib\\site-packages (from anyio->httpx->llama-index-core<0.12.0,>=0.11.0->llama-index-llms-ollama) (1.2.0)\n",
      "Downloading llama_index_llms_ollama-0.3.1-py3-none-any.whl (4.5 kB)\n",
      "Downloading ollama-0.3.2-py3-none-any.whl (10 kB)\n",
      "Installing collected packages: ollama, llama-index-llms-ollama\n",
      "Successfully installed llama-index-llms-ollama-0.3.1 ollama-0.3.2\n"
     ]
    }
   ],
   "execution_count": 8
  },
  {
   "metadata": {
    "ExecuteTime": {
     "end_time": "2024-09-04T06:04:16.250981Z",
     "start_time": "2024-09-04T06:04:15.658983Z"
    }
   },
   "cell_type": "code",
   "source": [
    "from llama_index.llms.ollama import Ollama\n",
    "\n",
    "llm = Ollama(model=\"mixtral:8x7b\", request_timeout=120.0)"
   ],
   "id": "8ccc527ff7ae0c6a",
   "outputs": [],
   "execution_count": 9
  },
  {
   "metadata": {
    "ExecuteTime": {
     "end_time": "2024-09-04T06:04:28.437531Z",
     "start_time": "2024-09-04T06:04:25.876443Z"
    }
   },
   "cell_type": "code",
   "source": "response = agent.chat(\"What is 20+(2*4)? Calculate step by step.\")",
   "id": "bc10b8f1a00a359e",
   "outputs": [
    {
     "name": "stdout",
     "output_type": "stream",
     "text": [
      "> Running step d986e3fd-22f9-4bdd-82e9-f8705eff4fa1. Step input: What is 20+(2*4)? Calculate step by step.\n",
      "\u001B[1;3;38;5;200mThought: The current language of the user is: English. I need to use a tool to help me answer the question.\n",
      "Action: multiply\n",
      "Action Input: {'a': 2, 'b': 4}\n",
      "\u001B[0m\u001B[1;3;34mObservation: 8\n",
      "\u001B[0m> Running step 36ea5d7a-d115-4588-9278-8d5138832064. Step input: None\n",
      "\u001B[1;3;38;5;200mThought: I can answer without using any more tools. I'll use the user's language to answer\n",
      "Answer: 20 + (2 * 4) = 20 + 8 = 28\n",
      "\u001B[0m"
     ]
    }
   ],
   "execution_count": 10
  },
  {
   "metadata": {
    "ExecuteTime": {
     "end_time": "2024-09-04T06:05:21.140232Z",
     "start_time": "2024-09-04T06:05:21.124160Z"
    }
   },
   "cell_type": "code",
   "source": "from llama_index.core import SimpleDirectoryReader, VectorStoreIndex, Settings",
   "id": "4a1d43e2fa0f9c2d",
   "outputs": [],
   "execution_count": 11
  },
  {
   "metadata": {
    "ExecuteTime": {
     "end_time": "2024-09-04T06:05:41.205025Z",
     "start_time": "2024-09-04T06:05:41.184025Z"
    }
   },
   "cell_type": "code",
   "source": "Settings.llm = OpenAI(model=\"gpt-3.5-turbo\", temperature=0)",
   "id": "e2a32142cb649b3b",
   "outputs": [],
   "execution_count": 12
  },
  {
   "metadata": {
    "ExecuteTime": {
     "end_time": "2024-09-04T06:08:00.899093Z",
     "start_time": "2024-09-04T06:07:34.755791Z"
    }
   },
   "cell_type": "code",
   "source": [
    "documents = SimpleDirectoryReader(\"./../data/upload\").load_data()\n",
    "index = VectorStoreIndex(documents)\n",
    "query_engine = index.as_query_engine()"
   ],
   "id": "2cb53a50716cf9d5",
   "outputs": [],
   "execution_count": 14
  },
  {
   "metadata": {
    "ExecuteTime": {
     "end_time": "2024-09-04T06:08:17.417383Z",
     "start_time": "2024-09-04T06:08:05.272658Z"
    }
   },
   "cell_type": "code",
   "source": [
    "response = query_engine.query(\n",
    "    \"What is mentioned about Bill Palmer in document?\"\n",
    ")\n",
    "print(response)"
   ],
   "id": "57bf9e54fa89cdab",
   "outputs": [
    {
     "name": "stdout",
     "output_type": "stream",
     "text": [
      "Bill Palmer is the Director of Midrange Technology Operations at Parts Unlimited, a $4 billion per year manufacturing and retail company based in Elkhart Grove. He is responsible for the availability and smooth functioning of a relatively small IT group. Bill is shown to be dealing with network issues that disrupt the services his group provides, which could lead to blame being placed on him.\n"
     ]
    }
   ],
   "execution_count": 15
  },
  {
   "metadata": {},
   "cell_type": "code",
   "outputs": [],
   "execution_count": null,
   "source": "",
   "id": "416ec524e77d879a"
  }
 ],
 "metadata": {
  "kernelspec": {
   "display_name": "Python 3",
   "language": "python",
   "name": "python3"
  },
  "language_info": {
   "codemirror_mode": {
    "name": "ipython",
    "version": 2
   },
   "file_extension": ".py",
   "mimetype": "text/x-python",
   "name": "python",
   "nbconvert_exporter": "python",
   "pygments_lexer": "ipython2",
   "version": "2.7.6"
  }
 },
 "nbformat": 4,
 "nbformat_minor": 5
}
